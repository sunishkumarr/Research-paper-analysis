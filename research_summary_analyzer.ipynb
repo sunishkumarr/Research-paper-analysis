{
 "cells": [
  {
   "cell_type": "markdown",
   "metadata": {},
   "source": [
    "## Initial Promopt"
   ]
  },
  {
   "cell_type": "code",
   "execution_count": 2,
   "metadata": {},
   "outputs": [
    {
     "name": "stdout",
     "output_type": "stream",
     "text": [
      "Extracted text preview:\n",
      "See discussions, stats, and author profiles for this publication at: https://www.researchgate.net/publication/353326963\n",
      "ARTIFICIAL INTELLIGENCE IN COMPUTER VISION\n",
      "Article · July 2021\n",
      "DOI: 10.33564/IJEAST.2021.v06i01.037\n",
      "CITATIONS READS\n",
      "8 12,415\n",
      "1 author:\n",
      "Aryan Karn\n",
      "Motilal Nehru National Institute of Technology\n",
      "3 PUBLICATIONS 8 CITATIONS\n",
      "SEE PROFILE\n",
      "All content following this page was uploaded by Aryan Karn on 18 July 2021.\n",
      "The user has requested enhancement of the downloaded file.International \n"
     ]
    },
    {
     "name": "stderr",
     "output_type": "stream",
     "text": [
      "Hardware accelerator e.g. GPU is available in the environment, but no `device` argument is passed to the `Pipeline` object. Model will be on CPU.\n"
     ]
    },
    {
     "name": "stdout",
     "output_type": "stream",
     "text": [
      "Summary based on prompt:\n",
      "The user has requested enhancement of the downloaded file. Summarize the key findings of the paper. See discussions, stats, and author profiles for this publication at: http://www.researchgate.net/publication/353326963. It is possible to construct a convolutional neural network at the most abstract level. It is a multidisciplinary subject that network using a variety of structural blocks. blocks include convolution layers, pooling layers, and fully fully connected layers. Computer vision as a discipline is at the cutting-edge of science. As with any frontier, it is thrilling and chaotic, A. Deep Learning and Neural Networks with often no trustworthy authority to turn to. Machine learning uses algorithms and theories that are rendered ineffective in reality. While deep learning was originally proposed in the 1980s, it has shown significant benefits in recent years. This is because computer vision has gained traction and popularity. Deep learning requires a large capacity for recording. Deep learning may be used to solve a wide range of problems. For example, the author discusses autonomous driving, aerospace and computer vision. In more detail in the closing part of the article. ConvNet is a subtype of Deep Neural Networks (DNNs) that are Function to get the desired Output. In this method, the input to retrieve the desired output is referred to as a neuron. In the next part, the author discusses what Convolution is, how it extracts data from pictures, and the architecture and components of CNN. This will show how CNN examines the content of an image and processes the data in order to provide the envisioned result to the audience. The Activation Function is Result function, as well as the initialization of the Result function. Convolution is a data processing technique that entails categorizing the components (content) of an image. Deep Learning is a kind of neural network that enablesOutput is solely dependent on two input variables, namely the size data-driven learning. As indicated by the procedure's name, the bigger the house and convolution process separates the wheat from the chaff. CNN, or convolutional neural network, is a kind of neural network. It is often used to generate Output from statistical, numerical, and other quantitative data. The method takes advantage of data saved from previous instances in D. Convolutional Neural Network is used to process three-dimensional data. The channel travels the whole picture using the method used in Deep Learning. The task is to reproduce the image's features by utilizing learning. Spatial pooling (alternatively referred to as subsampling or. down sampling) lowers the dimensionality of each element map while preserving the most critical data. If Max Pooling occurs, we define a spatial neighborhoods. Max Pooling has been shown to be increasingly effective with time. Max pooling, as shown below, chooses the component that is the largest in a given neighborhood. The technology is getting more advanced. With the use of best-in-class image processing technology and computer vision methods, early identification of any potential neurologicaldiseases will be feasible. Computer Vision can be used to create a model of a car. The model can be molded and organized in the same way as a conventional neural network. Self-driving autos are furnished with numerous cameras to give a total                360-degree perspective on nature inside the scope of several meters. Tesla vehicles, for example, utilize something like 8                encompasses cameras to accomplish this accomplishment. With a lot of information being encouraged into the vehicle, a basic PC won't be sufficient. Computer vision is extensively employed in the diagnosis of diseases. It has been shown to be just as good as traditional human specialists in the area when it comes to accuracy. AlexNet (2012) – In 2012, Alex Krizhevsky published AlexNet, which was a more in-depth and much more complete version of the LeNet. AlexNet was the clear winner of the inaugural ImageNet Large Scale Visual RecognitionChallenge in 2012. Computer Vision in astronomy since our universe is so enormous, organization's main goal was the creation of an Inception Module. This opens the door to the potential of utilizing conference, it was given the moniker \"GoogleLeNet\" (2014) ResNets (2015) was thewinner of the ILSVRC 2015. Convolutional Neural Network is utilized on the mechanical models. ResNets are currently by a wide margin the best-production systems. Convolutional Neural Networks (CNNs) is a kind of neural the Tor the Tor. layer. Each layer has each layer directly directly connected to every other layer in a feed-forward architecture. Convolutional neural networks have been around since the mid-90s. In the later part of the paper, the author has focused on Convolutional Neural Networks. CNN has become a very powerful tool in machine. By providing various images as input data at the machine convnets/. The learning phase can facilitate the learning process faster. CNN is now also being considered for IoT, Commercial, and domestic security systems. Pulkit Sharma, Analytics Vidhya, An Introductory Guide to www.mathworks.com. Summarize the key findings of the paper. “What Is Deep Learning?: How It Works, Techniques &amp;Applications.” A Beginner's Guide To Understanding Convolutional NeuralNetworks – Adit Deshpande – Engineering at UCLA. “Autopilot” Tesla, Inc, www.tesla.com/autopilot. ‘Computer Vision: A Study On Different CNN Architectures and Their Applications.’ “Computer vision: A study On DifferentCNN Architecture and Their applications.”\n"
     ]
    }
   ],
   "source": [
    "import pdfplumber\n",
    "from transformers import pipeline\n",
    "\n",
    "# Function to extract text from PDF\n",
    "def extract_text_from_pdf(pdf_path):\n",
    "    text = \"\"\n",
    "    with pdfplumber.open(pdf_path) as pdf:\n",
    "        for page in pdf.pages:\n",
    "            page_text = page.extract_text()\n",
    "            if page_text:\n",
    "                text += page_text\n",
    "    return text\n",
    "\n",
    "# Function to summarize text using Hugging Face transformer models (PyTorch backend)\n",
    "def summarize_text_based_on_prompt(text, prompt, model=\"facebook/bart-large-cnn\", max_length=200):\n",
    "    summarizer = pipeline(\"summarization\", model=model, framework=\"pt\")  # Use PyTorch\n",
    "    max_input_length = 1024  # Adjust based on model's max length\n",
    "    text_chunks = [text[i:i+max_input_length] for i in range(0, len(text), max_input_length)]\n",
    "    summaries = []\n",
    "    for chunk in text_chunks:\n",
    "        full_text_with_prompt = prompt + \" \" + chunk\n",
    "        try:\n",
    "            summary = summarizer(full_text_with_prompt, max_length=max_length, min_length=30, do_sample=False)\n",
    "            if summary:\n",
    "                summaries.append(summary[0]['summary_text'])\n",
    "        except IndexError:\n",
    "            summaries.append(\"Error: Summary index out of range.\")\n",
    "    return \" \".join(summaries)\n",
    "\n",
    "# Example usage\n",
    "pdf_path = \"/Users/ravishankar/Desktop/GenAI-Virtual-Internship/ARTIFICIAL INTELLIGENCE IN COMPUTER VISION.pdf\"  # Your PDF file path\n",
    "prompt = \"Summarize the key findings of the paper.\"\n",
    "text = extract_text_from_pdf(pdf_path)\n",
    "print(\"Extracted text preview:\")\n",
    "print(text[:500])  # Print the first 500 characters to verify\n",
    "\n",
    "summary = summarize_text_based_on_prompt(text, prompt)\n",
    "print(\"Summary based on prompt:\")\n",
    "print(summary)\n"
   ]
  },
  {
   "cell_type": "markdown",
   "metadata": {},
   "source": [
    "## Second Iterations"
   ]
  },
  {
   "cell_type": "code",
   "execution_count": 13,
   "metadata": {},
   "outputs": [
    {
     "name": "stdout",
     "output_type": "stream",
     "text": [
      "Extracted text preview:\n",
      "See discussions, stats, and author profiles for this publication at: https://www.researchgate.net/publication/353326963\n",
      "ARTIFICIAL INTELLIGENCE IN COMPUTER VISION\n",
      "Article · July 2021\n",
      "DOI: 10.33564/IJEAST.2021.v06i01.037\n",
      "CITATIONS READS\n",
      "8 12,415\n",
      "1 author:\n",
      "Aryan Karn\n",
      "Motilal Nehru National Institute of Technology\n",
      "3 PUBLICATIONS 8 CITATIONS\n",
      "SEE PROFILE\n",
      "All content following this page was uploaded by Aryan Karn on 18 July 2021.\n",
      "The user has requested enhancement of the downloaded file.International \n"
     ]
    },
    {
     "name": "stderr",
     "output_type": "stream",
     "text": [
      "Hardware accelerator e.g. GPU is available in the environment, but no `device` argument is passed to the `Pipeline` object. Model will be on CPU.\n"
     ]
    },
    {
     "name": "stdout",
     "output_type": "stream",
     "text": [
      "Summary based on prompt:\n",
      "The user has requested enhancement of the downloaded file. Computer vision is an area of research concerned often employed in visual sign decoding. In addition, it is used in assisting computers in seeing. Provide a concise summary of the methodology used in this research. The book covers Convolutional Neural Networks, their engineering and computer science disciplines. It is possible to construct a convolutional neural network at the most abstract level. Computer vision as a discipline is at the cutting edge of science. Machine learning uses algorithms and theories that are rendered ineffective in reality. Artificial Intelligence is a method for teaching computers to act like humans. Deep learning was originally proposed in the 1980s. It has shown significant benefits in recent years for two primary reasons. Recent advances in Convolutional Neural Networks performance offer an efficient parallel. Deep learning may be used to solve a wide range of problems. The author discusses autonomous driving, aerospace and computer vision in more detail in the closing part of the article. ConvNet is a subtype of Deep Neural Networks (DNNs) that are Function to get the desired Output. In this method, the input to                249International Journal of Engineering Applied Sciences and Technology, 2021Vol. 6, Issue 1, ISSN No. 2455-2143, Pages 249-254. The author discusses what Convolution is, how it extracts data from pictures, and the architecture and components of CNN. Algorithms may be used to identify pictures and videos, create recommender systems, categorize images, do medical image analysis, and evaluate natural language. The Activation Function is Result function, as well as the initialization of the Result function. Convolution is a data processing technique that entails categorizing the components (content) of an image in order to generate the desired Output. Deep Learning is a kind of neural network that enablesOutput is solely dependent on two input variables. As indicated by the procedure's name, the bigger the house and convolution process separates the wheat from the chaff. CNN, or convolutional neural network, is a kind of neuralnetwork. The method takes advantage of data saved (learned!) from previous instances in D. Convolutional Neural Network is used in processing various kinds of input. The task is to reproduce the image's features by utilizing the pixel values that were first used. After traversing over each place, a framework is produced that is much less in size. The way to detect the vertical edge in the image is to look for the pixel values. If the pixel value is greater, then brightness at that part of the image will be more, and if the value is less, it will be dark. Spatial pooling lowers the dimensionality of each element map while preserving the most critical data. Max Pooling has been shown to be increasingly effective with time. Max pooling chooses the component that is the largest in a given window. The phrase \"sum pooling\" refers to the gathering of all components in a window. The technology is getting more advanced. With the use of best-in-class image processing technology and computer vision methods, early identification of any potential neurologicaldiseases will be feasible. Automobile:organized in the manner defined by earlier phases of a CNN, rather than the other way around. Feature map matrix is converted into a vector as(x1,x2,...xn) by Computer Vision. Then, using the activation function, we can identify impediments, people on footpaths, and conceivable classify the Output. Self-driving autos are furnished with numerous cameras to give a 360-degree perspective on nature inside the scope of several meters. Tesla vehicles, for example, utilize something like 8 encompasses cameras to accomplish this accomplishment. With a lot of information being encouraged into the vehicle, a basic PC won't be sufficient to deal with the inundation of data. This is the reason all self-driving cars have a locally available PC with Computer                III APPLICATIONS                . Computer vision is extensively employed in the diagnosis of                driving framework to settle on proper choices. It has been shown to be just as good as traditional human specialists in the area of person on foot recognition. AlexNet (2012) – In 2012, Alex Krizhevsky published AlexNet, which was a more in-depth and much more complete version of the LeNet. AlexNet was the clear winner of the inaugural ImageNet Large Scale Visual RecognitionChallenge in 2012. Computer Vision in astronomy since our universe is so enormous, organization's main goal was the creation of an Inception Module. This opens the door to the potential of utilizing conference, it was given the moniker \"GoogleLeNet\" (2014) ResNets (2015) was thewinner of the ILSVRC 2015. Convolutional Neural Network is currently by a wide margin the best-production systems for checking groups, identifying harmed parts, in-class models. Convolutional Neural Networks (CNNs) is a kind of neural the Tor the Tor. layer. Each layer has each layer directly connected to every other layer in a feed-forward architecture. View the video to see exactly how CNNs work. Convolutional neural networks have been around since the mid-90s. In the paper, the author has focused on Convolutional Neural Networks. CNN can be used to identify the highlights and the patterns of an image. By providing various images as input data at the machine convnets/.learning phase can facilitate the learning process faster. CNN is now also being considered for IoT, Commercial, and domestic security systems. This article provides a concise summary of the methodology used in this research. The research was conducted by Pulkit Sharma, Yash Upadhyay and Jason Brownlee.  Provide a concise summary of the methodology used in this research. , AlumnAIAcademy, 29 Mar. 2019, grotesquely. “Autopilot” Tesla, Inc, www.tesla.com/autopilot.\n"
     ]
    }
   ],
   "source": [
    "import pdfplumber\n",
    "from transformers import pipeline\n",
    "\n",
    "# Function to extract text from PDF\n",
    "def extract_text_from_pdf(pdf_path):\n",
    "    text = \"\"\n",
    "    with pdfplumber.open(pdf_path) as pdf:\n",
    "        for page in pdf.pages:\n",
    "            page_text = page.extract_text()\n",
    "            if page_text:\n",
    "                text += page_text\n",
    "    return text\n",
    "\n",
    "# Function to summarize text using Hugging Face transformer models (PyTorch backend)\n",
    "def summarize_text_based_on_prompt(text, prompt, model=\"facebook/bart-large-cnn\", max_length=200):\n",
    "    summarizer = pipeline(\"summarization\", model=model, framework=\"pt\")  # Use PyTorch\n",
    "    max_input_length = 1024  # Adjust based on model's max length\n",
    "    text_chunks = [text[i:i+max_input_length] for i in range(0, len(text), max_input_length)]\n",
    "    summaries = []\n",
    "    for chunk in text_chunks:\n",
    "        full_text_with_prompt = prompt + \" \" + chunk\n",
    "        try:\n",
    "            summary = summarizer(full_text_with_prompt, max_length=max_length, min_length=30, do_sample=False)\n",
    "            if summary:\n",
    "                summaries.append(summary[0]['summary_text'])\n",
    "        except IndexError:\n",
    "            summaries.append(\"Error: Summary index out of range.\")\n",
    "    return \" \".join(summaries)\n",
    "\n",
    "# Example usage\n",
    "pdf_path = \"/Users/ravishankar/Desktop/GenAI-Virtual-Internship/ARTIFICIAL INTELLIGENCE IN COMPUTER VISION.pdf\"  # Your PDF file path\n",
    "prompt = \"Provide a concise summary of the methodology used in this research.\"\n",
    "text = extract_text_from_pdf(pdf_path)\n",
    "print(\"Extracted text preview:\")\n",
    "print(text[:500])  # Print the first 500 characters to verify\n",
    "\n",
    "summary = summarize_text_based_on_prompt(text, prompt)\n",
    "print(\"Summary based on prompt:\")\n",
    "print(summary)\n"
   ]
  },
  {
   "cell_type": "markdown",
   "metadata": {},
   "source": [
    "## Final Prompt"
   ]
  },
  {
   "cell_type": "code",
   "execution_count": 14,
   "metadata": {},
   "outputs": [
    {
     "name": "stdout",
     "output_type": "stream",
     "text": [
      "Extracted text preview:\n",
      "See discussions, stats, and author profiles for this publication at: https://www.researchgate.net/publication/353326963\n",
      "ARTIFICIAL INTELLIGENCE IN COMPUTER VISION\n",
      "Article · July 2021\n",
      "DOI: 10.33564/IJEAST.2021.v06i01.037\n",
      "CITATIONS READS\n",
      "8 12,415\n",
      "1 author:\n",
      "Aryan Karn\n",
      "Motilal Nehru National Institute of Technology\n",
      "3 PUBLICATIONS 8 CITATIONS\n",
      "SEE PROFILE\n",
      "All content following this page was uploaded by Aryan Karn on 18 July 2021.\n",
      "The user has requested enhancement of the downloaded file.International \n"
     ]
    },
    {
     "name": "stderr",
     "output_type": "stream",
     "text": [
      "Hardware accelerator e.g. GPU is available in the environment, but no `device` argument is passed to the `Pipeline` object. Model will be on CPU.\n"
     ]
    },
    {
     "name": "stdout",
     "output_type": "stream",
     "text": [
      "Summary based on prompt:\n",
      "All content following this page was uploaded by Aryan Karn on 18 July 2021. Summaries and Analyze Insights from the research paper. See discussions, stats, and author profiles for this publication. The book covers Convolutional Neural Networks, their engineering and computer science disciplines. It is possible to construct a convolutional neural network at the most abstract level. Computer vision as a discipline is at the cutting edge of science. Machine learning uses algorithms and theories that are rendered ineffective in reality. Artificial Intelligence is a method for teaching computers to act like humans. While deep learning was originally proposed in the 1980s, it has shown significant benefits in recent years. Deep learning requires a large capacity for recording. Recent advances in Convolutional Neural Networks performance offer an efficient parallel. Convolutional neural networks (CNNs) have resulted in an extraordinary performance in these suited for deep learning. When used in conjunction with clusters                best-in-class visual recognition assignments and frameworks, or cloud computing, this significantly lowers the time required to train a deep learning network. ConvNet is a subtype of Deep Neural Networks (DNNs) that are Function to get the desired Output. In this method, the input to the convolutional neural network is referred to as a neuron. Algorithms may be used to identify pictures and videos, create recommender systems, categorize images, do medical image analysis, and evaluate natural language. In the next part, the author discusses what Convolution is, how it extracts data from pictures, and the architecture and components of CNN. The Activation Function is Result function, as well as the initialization of the Result function. Convolution is a data processing technique that entails categorizing the components (content) of an image. Deep Learning is a kind of neural network that enablesOutput is solely dependent on two input variables, namely the size data-driven learning. As indicated by the procedure's name, the bigger the house and convolution process separates the wheat from the chaff. CNN, or convolutional neural network, is a kind of neural network. The method takes advantage of data saved (learned!) from previous instances in D. The kind of Neural Network to employ is determined by the nature of the input data. Convolutional Neural Network method used in Deep Learning. The task is to reproduce the image's features by utilizing ConvolutionalLearning. After traversing over viewpoints, a framework is produced. Spatial pooling (alternatively referred to as subsampling or. down sampling) lowers the dimensionality of each element map while preserving the most critical data. If Max Pooling occurs, we define a spatialneighborhood (for example, a 22) Max Pooling has been shown to be increasingly effective with time. Max pooling, as shown below, chooses the component with the largest size. The technology is getting more advanced. With the use of best-in-class image processing technology and computer vision methods, early identification of any potential disease will be feasible. In this manner, treatment may beadministered at an inconvenient time during the disease. Computer Vision is a type of neural network. It works in the same manner as a conventional neural network, such as a Multi-Layer Perceptron (MLP) Automobile:organized in the manner defined by earlier phases of a CNN, rather than the other way around. Self-driving autos are furnished with numerous cameras to give a total                360-degree perspective on nature. With a lot of information being encouraged into the vehicle, a basic PC won't be sufficient to deal with the inundation of data. The cameras and sensors are trusted to both recognize and group objects. Computer vision is extensively employed in the diagnosis of diseases. It has been shown to be just as good as human specialists in the area when it comes to accuracy. AlexNet (2012) – In 2012, Alex Krizhevsky published AlexNet, which was a more in-depth and much more complete version of the LeNet. AlexNet was the clear winner of the inaugural ImageNet Large Scale Visual RecognitionChallenge in 2012. Computer Vision in astronomy since our universe is so enormous, organization's main goal was the creation of an Inception Module. This opens the door to the potential of utilizing conference, it was given the moniker \"GoogleLeNet\" (2014) ResNets (2015), a Residual Network created by Kaiming He (and others), that was awarded sixth place in the ILSVRC 2015. The seventh source is DenseNet, whicic. Convolutional Neural Networks (CNNs) is a kind of neural the Tor the Tor. layer. Each layer has each layer directly connected to every other layer in a feed-forward architecture. Convolutional neural networks have been around since the mid-90s. The tasks that neural networks were capable of doing grew later in the 2010s. CNN has become a very powerful tool in machine. By providing various images as input data at the machine convnets/.learning phase can facilitate the learning process faster. CNN is now also being considered for IoT, Commercial, and domestic security systems. Pulkit Sharma, Analytics Vidhya, An Introductory Guide to www.mathworks.com. Summaries and Analyze Insights from the research paper.    place in Data Engineering. A Beginner's Guide To Understanding Convolutional NeuralNetworks – Adit Deshpande – Engineering at UCLACS '19. “Computer Vision: A Study On DifferentCNN Architectures and Their Applications.” Medium, AlumnAI mistakenlyAcademy, 29 Mar. 2019.\n"
     ]
    }
   ],
   "source": [
    "import pdfplumber\n",
    "from transformers import pipeline\n",
    "\n",
    "# Function to extract text from PDF\n",
    "def extract_text_from_pdf(pdf_path):\n",
    "    text = \"\"\n",
    "    with pdfplumber.open(pdf_path) as pdf:\n",
    "        for page in pdf.pages:\n",
    "            page_text = page.extract_text()\n",
    "            if page_text:\n",
    "                text += page_text\n",
    "    return text\n",
    "\n",
    "# Function to summarize text using Hugging Face transformer models (PyTorch backend)\n",
    "def summarize_text_based_on_prompt(text, prompt, model=\"facebook/bart-large-cnn\", max_length=200):\n",
    "    summarizer = pipeline(\"summarization\", model=model, framework=\"pt\")  # Use PyTorch\n",
    "    max_input_length = 1024  # Adjust based on model's max length\n",
    "    text_chunks = [text[i:i+max_input_length] for i in range(0, len(text), max_input_length)]\n",
    "    summaries = []\n",
    "    for chunk in text_chunks:\n",
    "        full_text_with_prompt = prompt + \" \" + chunk\n",
    "        try:\n",
    "            summary = summarizer(full_text_with_prompt, max_length=max_length, min_length=30, do_sample=False)\n",
    "            if summary:\n",
    "                summaries.append(summary[0]['summary_text'])\n",
    "        except IndexError:\n",
    "            summaries.append(\"Error: Summary index out of range.\")\n",
    "    return \" \".join(summaries)\n",
    "\n",
    "# Example usage\n",
    "pdf_path = \"/Users/ravishankar/Desktop/GenAI-Virtual-Internship/ARTIFICIAL INTELLIGENCE IN COMPUTER VISION.pdf\"  # Your PDF file path\n",
    "prompt = \"Summaries and Analyze Insights from the research paper. \"\n",
    "text = extract_text_from_pdf(pdf_path)\n",
    "print(\"Extracted text preview:\")\n",
    "print(text[:500])  # Print the first 500 characters to verify\n",
    "\n",
    "summary = summarize_text_based_on_prompt(text, prompt)\n",
    "print(\"Summary based on prompt:\")\n",
    "print(summary)\n"
   ]
  }
 ],
 "metadata": {
  "kernelspec": {
   "display_name": "Python 3",
   "language": "python",
   "name": "python3"
  },
  "language_info": {
   "codemirror_mode": {
    "name": "ipython",
    "version": 3
   },
   "file_extension": ".py",
   "mimetype": "text/x-python",
   "name": "python",
   "nbconvert_exporter": "python",
   "pygments_lexer": "ipython3",
   "version": "3.12.4"
  }
 },
 "nbformat": 4,
 "nbformat_minor": 2
}
